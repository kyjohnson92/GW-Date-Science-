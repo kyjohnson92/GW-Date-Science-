{
 "cells": [
  {
   "cell_type": "code",
   "execution_count": null,
   "metadata": {
    "collapsed": true
   },
   "outputs": [],
   "source": [
    "import pandas as pd\n",
    "import numpy as np\n",
    "\n",
    "import sqlalchemy\n",
    "from sqlalchemy.ext.automap import automap_base\n",
    "from sqlalchemy.orm import Session\n",
    "from sqlalchemy import create_engine, func\n",
    "from sqlalchemy import create_engine, inspect , desc, distinct, func, extract, and_\n",
    "\n",
    "from flask import Flask, jsonify, render_template, send_from_directory"
   ]
  },
  {
   "cell_type": "code",
   "execution_count": null,
   "metadata": {
    "collapsed": true
   },
   "outputs": [],
   "source": [
    "engine = create_engine('sqlite:///datasets/belly_button_biodiversity.sqlite')\n",
    "conn = engine.connect()\n",
    "Base = automap_base()\n",
    "Base.prepare(engine,reflect = True)\n",
    "Base.metadata.create_all(conn)\n",
    "otu = Base.classes.otu\n",
    "meta = Base.classes.samples_metadata"
   ]
  },
  {
   "cell_type": "code",
   "execution_count": null,
   "metadata": {
    "collapsed": true
   },
   "outputs": [],
   "source": [
    "session = Session(engine)\n",
    "inspector = inspect(engine)"
   ]
  },
  {
   "cell_type": "code",
   "execution_count": null,
   "metadata": {
    "collapsed": true
   },
   "outputs": [],
   "source": [
    "app = Flask(__name__)"
   ]
  },
  {
   "cell_type": "code",
   "execution_count": null,
   "metadata": {
    "collapsed": true
   },
   "outputs": [],
   "source": [
    "@app.route(\"/\")\n",
    "def index():\n",
    "    return render_template(\"index.html\")"
   ]
  },
  {
   "cell_type": "code",
   "execution_count": null,
   "metadata": {
    "collapsed": true
   },
   "outputs": [],
   "source": [
    "@app.route(\"/js/<filename>\")\n",
    "def downloadjs(filename):\n",
    "    return send_from_directory(\"js\", filename)"
   ]
  },
  {
   "cell_type": "code",
   "execution_count": null,
   "metadata": {
    "collapsed": true
   },
   "outputs": [],
   "source": [
    "@app.route(\"/names\")\n",
    "def names():\n",
    "    samples_col = inspector.get_columns('samples')\n",
    "    samples = []\n",
    "    for column in samples_col:\n",
    "        samples.append(column['name'])\n",
    "    return jsonify(samples)\n"
   ]
  },
  {
   "cell_type": "code",
   "execution_count": null,
   "metadata": {
    "collapsed": true
   },
   "outputs": [],
   "source": [
    "@app.route(\"/otu\")\n",
    "def otu_route():\n",
    "    otu_list = []\n",
    "    for row in session.query(otu.lowest_taxonomic_unit_found):\n",
    "        otu_list.append(row[0])\n",
    "    return jsonify(otu_list)"
   ]
  },
  {
   "cell_type": "code",
   "execution_count": null,
   "metadata": {},
   "outputs": [],
   "source": [
    "@app.route(\"/metadata/<sample>\")\n",
    "def metaSample(sample):\n",
    "    id = sample[3:]\n",
    "    results = session.query(meta.SAMPLEID,meta.ETHNICITY,meta.GENDER, meta.AGE, meta.LOCATION, meta.BBTYPE).filter(meta.SAMPLEID == id)\n",
    "    sample_metadata = {}\n",
    "    for result in results:\n",
    "        sample_metadata['SAMPLEID'] = result[0]\n",
    "        sample_metadata['ETHNICITY'] = result[1]\n",
    "        sample_metadata['GENDER'] = result[2]\n",
    "        sample_metadata['AGE'] = result[3]\n",
    "        sample_metadata['LOCATION'] = result[4]\n",
    "        sample_metadata['BBTYPE'] = result[5]\n",
    "    return jsonify(sample_metadata)"
   ]
  },
  {
   "cell_type": "code",
   "execution_count": null,
   "metadata": {
    "collapsed": true
   },
   "outputs": [],
   "source": [
    "@app.route(\"/wfreq/<sample>\")\n",
    "def wfreq(sample):\n",
    "    id = sample[3:]\n",
    "    results = session.query(meta.WFREQ).filter(meta.SAMPLEID == id)\n",
    "    return jsonify(results[0])    "
   ]
  },
  {
   "cell_type": "code",
   "execution_count": null,
   "metadata": {},
   "outputs": [],
   "source": [
    "@app.route(\"/samples/<sample>\")\n",
    "def sampledf(sample):\n",
    "    Sample = Base.classes.samples\n",
    "    results = \"select * from samples\"\n",
    "    sample_df = pd.read_sql(results, engine)\n",
    "    samp = sample_df[sample_df[sample] > 0]\n",
    "    otu_id = samp['otu_id'].sort_values(ascending=False).tolist()\n",
    "    samp_list = samp[sample].tolist() #.sort_values(ascending=False).\n",
    "    d = {'otu_id': otu_id, 'sample_values':samp_list}\n",
    "    return jsonify([d])"
   ]
  },
  {
   "cell_type": "code",
   "execution_count": null,
   "metadata": {},
   "outputs": [],
   "source": [
    "if __name__ == \"__main__\":\n",
    "\tapp.run()"
   ]
  },
  {
   "cell_type": "code",
   "execution_count": null,
   "metadata": {
    "collapsed": true
   },
   "outputs": [],
   "source": []
  }
 ],
 "metadata": {
  "kernelspec": {
   "display_name": "Python 3",
   "language": "python",
   "name": "python3"
  },
  "language_info": {
   "codemirror_mode": {
    "name": "ipython",
    "version": 3
   },
   "file_extension": ".py",
   "mimetype": "text/x-python",
   "name": "python",
   "nbconvert_exporter": "python",
   "pygments_lexer": "ipython3",
   "version": "3.6.2"
  }
 },
 "nbformat": 4,
 "nbformat_minor": 2
}
