{
 "cells": [
  {
   "cell_type": "code",
   "execution_count": 2,
   "metadata": {},
   "outputs": [],
   "source": [
    "import datadotworld as dw\n",
    "import os"
   ]
  },
  {
   "cell_type": "code",
   "execution_count": 3,
   "metadata": {},
   "outputs": [
    {
     "name": "stdout",
     "output_type": "stream",
     "text": [
      "Downloading Data...\n",
      "Download Complete!\n"
     ]
    }
   ],
   "source": [
    "os.environ['DW_AUTH_TOKEN'] = (\n",
    "    'eyJhbGciOiJIUzUxMiJ9.eyJzdWIiOiJwcm9kLXVzZXItY2xpZW50OnRyaWxvZ3l'\n",
    "    'lZCIsImlzcyI6ImFnZW50OnRyaWxvZ3llZDo6ZTVkMTBkNDgtODRmYy00ZTVjLTk'\n",
    "    'zNTUtMGIwOGMzYjIxNGNlIiwiaWF0IjoxNTAzMTAxNDIzLCJyb2xlIjpbInVzZXJ'\n",
    "    'fYXBpX3dyaXRlIiwidXNlcl9hcGlfcmVhZCJdLCJnZW5lcmFsLXB1cnBvc2UiOnR'\n",
    "    'ydWV9.HpopfqxXh0VqNgb1b8tpP6G1bkr-WblRNeS3UlhF-05sSTxx1CHJgRuAjd'\n",
    "    'nP8MoBIsHsysJANP27ioXqCKChgw'\n",
    ")\n",
    "\n",
    "url = 'trilogyed/dataviz-unit-11-hwk'\n",
    "download_dir = 'Resources'\n",
    "\n",
    "if os.path.isdir(download_dir):\n",
    "    print(\"Resources Directory Already Exists!\")\n",
    "    print(\"Please Remove the existing Resources folder and re-run this script\")\n",
    "    exit()\n",
    "\n",
    "client = dw.api_client()\n",
    "\n",
    "print(\"Downloading Data...\")\n",
    "client.download_datapackage(url, download_dir)\n",
    "print(\"Download Complete!\")\n"
   ]
  },
  {
   "cell_type": "code",
   "execution_count": null,
   "metadata": {
    "collapsed": true
   },
   "outputs": [],
   "source": []
  }
 ],
 "metadata": {
  "kernelspec": {
   "display_name": "Python [conda root]",
   "language": "python",
   "name": "conda-root-py"
  }
 },
 "nbformat": 4,
 "nbformat_minor": 2
}
